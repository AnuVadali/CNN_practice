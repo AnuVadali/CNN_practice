{
 "cells": [
  {
   "cell_type": "code",
   "execution_count": 1,
   "id": "1a3a2174",
   "metadata": {
    "execution": {
     "iopub.execute_input": "2022-09-05T07:12:48.331388Z",
     "iopub.status.busy": "2022-09-05T07:12:48.330541Z",
     "iopub.status.idle": "2022-09-05T07:12:54.933534Z",
     "shell.execute_reply": "2022-09-05T07:12:54.932548Z"
    },
    "papermill": {
     "duration": 6.615186,
     "end_time": "2022-09-05T07:12:54.936308",
     "exception": false,
     "start_time": "2022-09-05T07:12:48.321122",
     "status": "completed"
    },
    "tags": []
   },
   "outputs": [],
   "source": [
    "import numpy as np                               \n",
    "import pandas as pd                        \n",
    "import matplotlib.pyplot as plt                  \n",
    "import cv2             \n",
    "import tensorflow as tf                          \n",
    "from PIL import Image\n",
    "import os                                        \n",
    "from sklearn.model_selection import train_test_split\n",
    "from tensorflow.keras.utils import to_categorical\n",
    "from keras.models import Sequential, load_model\n",
    "from keras.layers import Conv2D, MaxPool2D, Dense, Flatten, Dropout\n",
    "import tqdm                                    \n",
    "import warnings"
   ]
  },
  {
   "cell_type": "code",
   "execution_count": 2,
   "id": "10ef2551",
   "metadata": {
    "execution": {
     "iopub.execute_input": "2022-09-05T07:12:54.945370Z",
     "iopub.status.busy": "2022-09-05T07:12:54.944877Z",
     "iopub.status.idle": "2022-09-05T07:14:17.964743Z",
     "shell.execute_reply": "2022-09-05T07:14:17.963628Z"
    },
    "papermill": {
     "duration": 83.02699,
     "end_time": "2022-09-05T07:14:17.967209",
     "exception": false,
     "start_time": "2022-09-05T07:12:54.940219",
     "status": "completed"
    },
    "tags": []
   },
   "outputs": [],
   "source": [
    "image_paths = []\n",
    "for dirname, _, filenames in os.walk('/kaggle/input'):\n",
    "    for filename in filenames:\n",
    "        if filename.endswith(\".png\"):\n",
    "            image_paths.append(os.path.join(dirname, filename))"
   ]
  },
  {
   "cell_type": "code",
   "execution_count": 3,
   "id": "7c0e650d",
   "metadata": {
    "execution": {
     "iopub.execute_input": "2022-09-05T07:14:17.977040Z",
     "iopub.status.busy": "2022-09-05T07:14:17.976110Z",
     "iopub.status.idle": "2022-09-05T07:14:20.352129Z",
     "shell.execute_reply": "2022-09-05T07:14:20.351062Z"
    },
    "papermill": {
     "duration": 2.383516,
     "end_time": "2022-09-05T07:14:20.354775",
     "exception": false,
     "start_time": "2022-09-05T07:14:17.971259",
     "status": "completed"
    },
    "tags": []
   },
   "outputs": [
    {
     "name": "stdout",
     "output_type": "stream",
     "text": [
      "(2150, 30, 30, 4) (2150,)\n"
     ]
    }
   ],
   "source": [
    "data = []\n",
    "labels = []\n",
    "classes = 43\n",
    "        \n",
    "for i in range(classes):\n",
    "    #path = os.path.join(os.getcwd(),'train',str(i))\n",
    "    #images = os.listdir(path)\n",
    "    for img in image_paths[:50]:\n",
    "        image = Image.open(img)\n",
    "        image = image.resize((30,30))\n",
    "        image = np.array(image)\n",
    "        data.append(image)\n",
    "        labels.append(i)\n",
    "\n",
    "#Converting lists into numpy arrays bcoz its faster and takes lesser #memory\n",
    "data = np.array(data)\n",
    "labels = np.array(labels)\n",
    "print(data.shape, labels.shape)"
   ]
  },
  {
   "cell_type": "code",
   "execution_count": 4,
   "id": "b49cfc89",
   "metadata": {
    "execution": {
     "iopub.execute_input": "2022-09-05T07:14:20.363967Z",
     "iopub.status.busy": "2022-09-05T07:14:20.363151Z",
     "iopub.status.idle": "2022-09-05T07:14:20.370719Z",
     "shell.execute_reply": "2022-09-05T07:14:20.369859Z"
    },
    "papermill": {
     "duration": 0.014275,
     "end_time": "2022-09-05T07:14:20.372780",
     "exception": false,
     "start_time": "2022-09-05T07:14:20.358505",
     "status": "completed"
    },
    "tags": []
   },
   "outputs": [],
   "source": [
    "#Converting lists into numpy arrays bcoz its faster and takes lesser memory\n",
    "data = np.array(data)\n",
    "labels = np.array(labels)"
   ]
  },
  {
   "cell_type": "code",
   "execution_count": 5,
   "id": "b2ce28ec",
   "metadata": {
    "execution": {
     "iopub.execute_input": "2022-09-05T07:14:20.380806Z",
     "iopub.status.busy": "2022-09-05T07:14:20.380480Z",
     "iopub.status.idle": "2022-09-05T07:14:20.390194Z",
     "shell.execute_reply": "2022-09-05T07:14:20.389337Z"
    },
    "papermill": {
     "duration": 0.016075,
     "end_time": "2022-09-05T07:14:20.392329",
     "exception": false,
     "start_time": "2022-09-05T07:14:20.376254",
     "status": "completed"
    },
    "tags": []
   },
   "outputs": [
    {
     "name": "stdout",
     "output_type": "stream",
     "text": [
      "(1720, 30, 30, 4) (430, 30, 30, 4) (1720,) (430,)\n"
     ]
    }
   ],
   "source": [
    "X_train, X_test, y_train, y_test = train_test_split(data, labels, test_size=0.2, random_state=68)\n",
    "\n",
    "print(X_train.shape, X_test.shape, y_train.shape, y_test.shape)"
   ]
  },
  {
   "cell_type": "code",
   "execution_count": 6,
   "id": "7fb9ce03",
   "metadata": {
    "execution": {
     "iopub.execute_input": "2022-09-05T07:14:20.400412Z",
     "iopub.status.busy": "2022-09-05T07:14:20.400130Z",
     "iopub.status.idle": "2022-09-05T07:14:20.407029Z",
     "shell.execute_reply": "2022-09-05T07:14:20.405727Z"
    },
    "papermill": {
     "duration": 0.01316,
     "end_time": "2022-09-05T07:14:20.409074",
     "exception": false,
     "start_time": "2022-09-05T07:14:20.395914",
     "status": "completed"
    },
    "tags": []
   },
   "outputs": [
    {
     "name": "stdout",
     "output_type": "stream",
     "text": [
      "(1720, 30, 30, 4) (430, 30, 30, 4) (1720, 43) (430, 43)\n"
     ]
    }
   ],
   "source": [
    "#Converting the labels into one hot encoding\n",
    "y_train = to_categorical(y_train, 43)\n",
    "y_test = to_categorical(y_test, 43)\n",
    "print(X_train.shape, X_test.shape, y_train.shape, y_test.shape)"
   ]
  },
  {
   "cell_type": "code",
   "execution_count": 7,
   "id": "b1d7e053",
   "metadata": {
    "execution": {
     "iopub.execute_input": "2022-09-05T07:14:20.417304Z",
     "iopub.status.busy": "2022-09-05T07:14:20.417034Z",
     "iopub.status.idle": "2022-09-05T07:14:23.441200Z",
     "shell.execute_reply": "2022-09-05T07:14:23.440238Z"
    },
    "papermill": {
     "duration": 3.030675,
     "end_time": "2022-09-05T07:14:23.443340",
     "exception": false,
     "start_time": "2022-09-05T07:14:20.412665",
     "status": "completed"
    },
    "tags": []
   },
   "outputs": [
    {
     "name": "stderr",
     "output_type": "stream",
     "text": [
      "2022-09-05 07:14:20.513772: I tensorflow/stream_executor/cuda/cuda_gpu_executor.cc:937] successful NUMA node read from SysFS had negative value (-1), but there must be at least one NUMA node, so returning NUMA node zero\n",
      "2022-09-05 07:14:20.646153: I tensorflow/stream_executor/cuda/cuda_gpu_executor.cc:937] successful NUMA node read from SysFS had negative value (-1), but there must be at least one NUMA node, so returning NUMA node zero\n",
      "2022-09-05 07:14:20.646965: I tensorflow/stream_executor/cuda/cuda_gpu_executor.cc:937] successful NUMA node read from SysFS had negative value (-1), but there must be at least one NUMA node, so returning NUMA node zero\n",
      "2022-09-05 07:14:20.648885: I tensorflow/core/platform/cpu_feature_guard.cc:142] This TensorFlow binary is optimized with oneAPI Deep Neural Network Library (oneDNN) to use the following CPU instructions in performance-critical operations:  AVX2 AVX512F FMA\n",
      "To enable them in other operations, rebuild TensorFlow with the appropriate compiler flags.\n",
      "2022-09-05 07:14:20.649262: I tensorflow/stream_executor/cuda/cuda_gpu_executor.cc:937] successful NUMA node read from SysFS had negative value (-1), but there must be at least one NUMA node, so returning NUMA node zero\n",
      "2022-09-05 07:14:20.650039: I tensorflow/stream_executor/cuda/cuda_gpu_executor.cc:937] successful NUMA node read from SysFS had negative value (-1), but there must be at least one NUMA node, so returning NUMA node zero\n",
      "2022-09-05 07:14:20.650705: I tensorflow/stream_executor/cuda/cuda_gpu_executor.cc:937] successful NUMA node read from SysFS had negative value (-1), but there must be at least one NUMA node, so returning NUMA node zero\n",
      "2022-09-05 07:14:22.976755: I tensorflow/stream_executor/cuda/cuda_gpu_executor.cc:937] successful NUMA node read from SysFS had negative value (-1), but there must be at least one NUMA node, so returning NUMA node zero\n",
      "2022-09-05 07:14:22.977591: I tensorflow/stream_executor/cuda/cuda_gpu_executor.cc:937] successful NUMA node read from SysFS had negative value (-1), but there must be at least one NUMA node, so returning NUMA node zero\n",
      "2022-09-05 07:14:22.978325: I tensorflow/stream_executor/cuda/cuda_gpu_executor.cc:937] successful NUMA node read from SysFS had negative value (-1), but there must be at least one NUMA node, so returning NUMA node zero\n",
      "2022-09-05 07:14:22.978935: I tensorflow/core/common_runtime/gpu/gpu_device.cc:1510] Created device /job:localhost/replica:0/task:0/device:GPU:0 with 15401 MB memory:  -> device: 0, name: Tesla P100-PCIE-16GB, pci bus id: 0000:00:04.0, compute capability: 6.0\n"
     ]
    }
   ],
   "source": [
    "#Building the model\n",
    "model = Sequential()\n",
    "model.add(Conv2D(filters=32, kernel_size=(5,5), activation='relu', input_shape=X_train.shape[1:]))\n",
    "model.add(Conv2D(filters=32, kernel_size=(5,5), activation='relu'))\n",
    "model.add(MaxPool2D(pool_size=(2, 2)))\n",
    "model.add(Dropout(rate=0.25))\n",
    "model.add(Conv2D(filters=64, kernel_size=(3, 3), activation='relu'))\n",
    "model.add(Conv2D(filters=64, kernel_size=(3, 3), activation='relu'))\n",
    "model.add(MaxPool2D(pool_size=(2, 2)))\n",
    "model.add(Dropout(rate=0.25))\n",
    "model.add(Flatten())\n",
    "model.add(Dense(256, activation='relu'))\n",
    "model.add(Dropout(rate=0.5))\n",
    "model.add(Dense(43, activation='softmax'))\n",
    "\n",
    "warnings.filterwarnings(\"ignore\", category=DeprecationWarning)"
   ]
  },
  {
   "cell_type": "code",
   "execution_count": 8,
   "id": "ee7d98f3",
   "metadata": {
    "execution": {
     "iopub.execute_input": "2022-09-05T07:14:23.452992Z",
     "iopub.status.busy": "2022-09-05T07:14:23.452669Z",
     "iopub.status.idle": "2022-09-05T07:14:23.465569Z",
     "shell.execute_reply": "2022-09-05T07:14:23.464681Z"
    },
    "papermill": {
     "duration": 0.020194,
     "end_time": "2022-09-05T07:14:23.467566",
     "exception": false,
     "start_time": "2022-09-05T07:14:23.447372",
     "status": "completed"
    },
    "tags": []
   },
   "outputs": [],
   "source": [
    "model.compile(loss='categorical_crossentropy', optimizer='adam', metrics=['accuracy'])"
   ]
  },
  {
   "cell_type": "code",
   "execution_count": 9,
   "id": "0581b243",
   "metadata": {
    "execution": {
     "iopub.execute_input": "2022-09-05T07:14:23.476524Z",
     "iopub.status.busy": "2022-09-05T07:14:23.476256Z",
     "iopub.status.idle": "2022-09-05T07:14:23.483581Z",
     "shell.execute_reply": "2022-09-05T07:14:23.481709Z"
    },
    "papermill": {
     "duration": 0.014348,
     "end_time": "2022-09-05T07:14:23.485788",
     "exception": false,
     "start_time": "2022-09-05T07:14:23.471440",
     "status": "completed"
    },
    "tags": []
   },
   "outputs": [
    {
     "name": "stdout",
     "output_type": "stream",
     "text": [
      "Model: \"sequential\"\n",
      "_________________________________________________________________\n",
      "Layer (type)                 Output Shape              Param #   \n",
      "=================================================================\n",
      "conv2d (Conv2D)              (None, 26, 26, 32)        3232      \n",
      "_________________________________________________________________\n",
      "conv2d_1 (Conv2D)            (None, 22, 22, 32)        25632     \n",
      "_________________________________________________________________\n",
      "max_pooling2d (MaxPooling2D) (None, 11, 11, 32)        0         \n",
      "_________________________________________________________________\n",
      "dropout (Dropout)            (None, 11, 11, 32)        0         \n",
      "_________________________________________________________________\n",
      "conv2d_2 (Conv2D)            (None, 9, 9, 64)          18496     \n",
      "_________________________________________________________________\n",
      "conv2d_3 (Conv2D)            (None, 7, 7, 64)          36928     \n",
      "_________________________________________________________________\n",
      "max_pooling2d_1 (MaxPooling2 (None, 3, 3, 64)          0         \n",
      "_________________________________________________________________\n",
      "dropout_1 (Dropout)          (None, 3, 3, 64)          0         \n",
      "_________________________________________________________________\n",
      "flatten (Flatten)            (None, 576)               0         \n",
      "_________________________________________________________________\n",
      "dense (Dense)                (None, 256)               147712    \n",
      "_________________________________________________________________\n",
      "dropout_2 (Dropout)          (None, 256)               0         \n",
      "_________________________________________________________________\n",
      "dense_1 (Dense)              (None, 43)                11051     \n",
      "=================================================================\n",
      "Total params: 243,051\n",
      "Trainable params: 243,051\n",
      "Non-trainable params: 0\n",
      "_________________________________________________________________\n"
     ]
    }
   ],
   "source": [
    "model.summary()"
   ]
  },
  {
   "cell_type": "code",
   "execution_count": 10,
   "id": "774a15e9",
   "metadata": {
    "execution": {
     "iopub.execute_input": "2022-09-05T07:14:23.494566Z",
     "iopub.status.busy": "2022-09-05T07:14:23.494307Z",
     "iopub.status.idle": "2022-09-05T07:14:34.385128Z",
     "shell.execute_reply": "2022-09-05T07:14:34.384007Z"
    },
    "papermill": {
     "duration": 10.900411,
     "end_time": "2022-09-05T07:14:34.390151",
     "exception": false,
     "start_time": "2022-09-05T07:14:23.489740",
     "status": "completed"
    },
    "tags": []
   },
   "outputs": [
    {
     "name": "stdout",
     "output_type": "stream",
     "text": [
      "Epoch 1/2\n"
     ]
    },
    {
     "name": "stderr",
     "output_type": "stream",
     "text": [
      "2022-09-05 07:14:23.571745: I tensorflow/compiler/mlir/mlir_graph_optimization_pass.cc:185] None of the MLIR Optimization Passes are enabled (registered 2)\n",
      "2022-09-05 07:14:24.945144: I tensorflow/stream_executor/cuda/cuda_dnn.cc:369] Loaded cuDNN version 8005\n"
     ]
    },
    {
     "name": "stdout",
     "output_type": "stream",
     "text": [
      "54/54 [==============================] - 8s 9ms/step - loss: 9.0971 - accuracy: 0.0244 - val_loss: 3.7644 - val_accuracy: 0.0256\n",
      "Epoch 2/2\n",
      "54/54 [==============================] - 0s 5ms/step - loss: 3.7658 - accuracy: 0.0203 - val_loss: 3.7637 - val_accuracy: 0.0140\n"
     ]
    }
   ],
   "source": [
    "history = model.fit(X_train, y_train, batch_size=32, epochs=2, validation_data=(X_test, y_test))\n",
    "#Final trainig of model\n",
    "\n",
    "warnings.filterwarnings(\"ignore\", category=DeprecationWarning)"
   ]
  },
  {
   "cell_type": "code",
   "execution_count": 11,
   "id": "882c9ec4",
   "metadata": {
    "execution": {
     "iopub.execute_input": "2022-09-05T07:14:34.402485Z",
     "iopub.status.busy": "2022-09-05T07:14:34.402168Z",
     "iopub.status.idle": "2022-09-05T07:14:34.445955Z",
     "shell.execute_reply": "2022-09-05T07:14:34.445090Z"
    },
    "papermill": {
     "duration": 0.051597,
     "end_time": "2022-09-05T07:14:34.448165",
     "exception": false,
     "start_time": "2022-09-05T07:14:34.396568",
     "status": "completed"
    },
    "tags": []
   },
   "outputs": [],
   "source": [
    "model.save(\"Trafic_signs_model.h5\")"
   ]
  },
  {
   "cell_type": "code",
   "execution_count": 12,
   "id": "d7f9acaf",
   "metadata": {
    "execution": {
     "iopub.execute_input": "2022-09-05T07:14:34.459214Z",
     "iopub.status.busy": "2022-09-05T07:14:34.458671Z",
     "iopub.status.idle": "2022-09-05T07:14:34.681503Z",
     "shell.execute_reply": "2022-09-05T07:14:34.680602Z"
    },
    "papermill": {
     "duration": 0.230653,
     "end_time": "2022-09-05T07:14:34.683600",
     "exception": false,
     "start_time": "2022-09-05T07:14:34.452947",
     "status": "completed"
    },
    "tags": []
   },
   "outputs": [
    {
     "data": {
      "image/png": "[encoded data removed]",
      "text/plain": [
       "<Figure size 432x288 with 1 Axes>"
      ]
     },
     "metadata": {
      "needs_background": "light"
     },
     "output_type": "display_data"
    }
   ],
   "source": [
    "#plotting graphs for accuracy \n",
    "plt.figure(0)\n",
    "plt.plot(history.history['accuracy'], label='training accuracy')\n",
    "plt.plot(history.history['val_accuracy'], label='val accuracy')\n",
    "plt.title('Accuracy')\n",
    "plt.xlabel('epochs')\n",
    "plt.ylabel('accuracy')\n",
    "plt.legend()\n",
    "plt.show()"
   ]
  },
  {
   "cell_type": "code",
   "execution_count": 13,
   "id": "bbf70069",
   "metadata": {
    "execution": {
     "iopub.execute_input": "2022-09-05T07:14:34.696395Z",
     "iopub.status.busy": "2022-09-05T07:14:34.695348Z",
     "iopub.status.idle": "2022-09-05T07:14:34.891687Z",
     "shell.execute_reply": "2022-09-05T07:14:34.890624Z"
    },
    "papermill": {
     "duration": 0.204903,
     "end_time": "2022-09-05T07:14:34.893676",
     "exception": false,
     "start_time": "2022-09-05T07:14:34.688773",
     "status": "completed"
    },
    "tags": []
   },
   "outputs": [
    {
     "data": {
      "image/png": "[encoded data removed]",
      "text/plain": [
       "<Figure size 432x288 with 1 Axes>"
      ]
     },
     "metadata": {
      "needs_background": "light"
     },
     "output_type": "display_data"
    }
   ],
   "source": [
    "#plotting graphs for loss \n",
    "plt.figure(1)\n",
    "plt.plot(history.history['loss'], label='training loss')\n",
    "plt.plot(history.history['val_loss'], label='val loss')\n",
    "plt.title('Loss')\n",
    "plt.xlabel('epochs')\n",
    "plt.ylabel('loss')\n",
    "plt.legend()\n",
    "plt.show()"
   ]
  },
  {
   "cell_type": "code",
   "execution_count": 14,
   "id": "3be9a473",
   "metadata": {
    "execution": {
     "iopub.execute_input": "2022-09-05T07:14:34.906896Z",
     "iopub.status.busy": "2022-09-05T07:14:34.906091Z",
     "iopub.status.idle": "2022-09-05T07:14:34.910591Z",
     "shell.execute_reply": "2022-09-05T07:14:34.909689Z"
    },
    "papermill": {
     "duration": 0.012952,
     "end_time": "2022-09-05T07:14:34.912609",
     "exception": false,
     "start_time": "2022-09-05T07:14:34.899657",
     "status": "completed"
    },
    "tags": []
   },
   "outputs": [],
   "source": [
    "#testing accuracy on test dataset\n",
    "from sklearn.metrics import accuracy_score"
   ]
  },
  {
   "cell_type": "code",
   "execution_count": 15,
   "id": "06704d87",
   "metadata": {
    "execution": {
     "iopub.execute_input": "2022-09-05T07:14:34.924292Z",
     "iopub.status.busy": "2022-09-05T07:14:34.924022Z",
     "iopub.status.idle": "2022-09-05T07:14:48.665739Z",
     "shell.execute_reply": "2022-09-05T07:14:48.664755Z"
    },
    "papermill": {
     "duration": 13.750425,
     "end_time": "2022-09-05T07:14:48.668472",
     "exception": false,
     "start_time": "2022-09-05T07:14:34.918047",
     "status": "completed"
    },
    "tags": []
   },
   "outputs": [],
   "source": [
    "y_test = pd.read_csv('../input/gtsrb-german-traffic-sign/Test.csv')\n",
    "\n",
    "labels = y_test[\"ClassId\"].values\n",
    "imgs = []\n",
    "\n",
    "for dirname, _, filenames in os.walk('/kaggle/input'):\n",
    "    for filename in filenames:\n",
    "        if filename.endswith(\".png\"):\n",
    "            imgs.append(os.path.join(dirname, filename))\n",
    "\n",
    "data=[]\n",
    "\n",
    "for img in imgs[:50]:\n",
    "    image = Image.open(img)\n",
    "    image = image.resize((30,30))\n",
    "    data.append(np.array(image))\n",
    "\n",
    "X_test=np.array(data)\n",
    "\n",
    "pred = model.predict(X_test)"
   ]
  }
 ],
 "metadata": {
  "kernelspec": {
   "display_name": "Python 3",
   "language": "python",
   "name": "python3"
  },
  "language_info": {
   "codemirror_mode": {
    "name": "ipython",
    "version": 3
   },
   "file_extension": ".py",
   "mimetype": "text/x-python",
   "name": "python",
   "nbconvert_exporter": "python",
   "pygments_lexer": "ipython3",
   "version": "3.7.12"
  },
  "papermill": {
   "default_parameters": {},
   "duration": 131.327123,
   "end_time": "2022-09-05T07:14:51.856581",
   "environment_variables": {},
   "exception": null,
   "input_path": "__notebook__.ipynb",
   "output_path": "__notebook__.ipynb",
   "parameters": {},
   "start_time": "2022-09-05T07:12:40.529458",
   "version": "2.3.4"
  }
 },
 "nbformat": 4,
 "nbformat_minor": 5
}
